{
  "nbformat": 4,
  "nbformat_minor": 0,
  "metadata": {
    "colab": {
      "name": "Structures de données - Les arbres (Doc prof)",
      "provenance": [],
      "toc_visible": true
    },
    "kernelspec": {
      "name": "python3",
      "display_name": "Python 3"
    }
  },
  "cells": [
    {
      "cell_type": "markdown",
      "metadata": {
        "id": "NsbLoGlRywlS"
      },
      "source": [
        "<div align=center><font color=#FF0000 size=24> Les arbres </font> <a name=\"pile\"></a></div>"
      ]
    },
    {
      "cell_type": "markdown",
      "metadata": {
        "id": "sFZXbz11y7WL"
      },
      "source": [
        "# Première approche"
      ]
    },
    {
      "cell_type": "code",
      "metadata": {
        "colab": {
          "base_uri": "https://localhost:8080/"
        },
        "id": "PGj0gNoGyuig",
        "outputId": "0eed1b75-2d81-4340-af9b-d0bb17ded307"
      },
      "source": [
        "def creation_arbre(r,profondeur):\n",
        "    '''\n",
        "    r : la racine (str ou int). la profondeur de l’arbre (int)\n",
        "    '''\n",
        "    Arbre = [r]+[None for i in range(2**(profondeur+1)-2)]\n",
        "    return Arbre\n",
        "\n",
        "def insertion_noeud(arbre,n,fg,fd):\n",
        "    '''\n",
        "    Insère les noeuds n et leurs enfants fg et fd dans l’arbre\n",
        "    '''\n",
        "    indice = arbre.index(n)\n",
        "    arbre[2*indice+1] = fg\n",
        "    arbre[2*indice+2] = fd\n",
        "    \n",
        "# création de l’arbre\n",
        "arbre = creation_arbre(\"r\",5)\n",
        "# ajout des noeuds par niveau de gauche à droite\n",
        "insertion_noeud(arbre,\"r\",\"a\",\"b\")\n",
        "insertion_noeud(arbre,\"a\",\"c\",\"d\")\n",
        "insertion_noeud(arbre,\"b\",\"e\",\"f\")\n",
        "insertion_noeud(arbre,\"c\",None,\"h\")\n",
        "insertion_noeud(arbre,\"d\",\"i\",\"j\")\n",
        "insertion_noeud(arbre,\"e\",\"k\",None)\n",
        "insertion_noeud(arbre,\"f\",None,None)\n",
        "insertion_noeud(arbre,\"h\",None,None)\n",
        "insertion_noeud(arbre,\"i\",None,None)\n",
        "insertion_noeud(arbre,\"j\",\"m\",None)\n",
        "insertion_noeud(arbre,\"k\",None,None)\n",
        "insertion_noeud(arbre,\"m\",None,None)\n",
        "#pour vérifier\n",
        "print(len(arbre))\n",
        "print(arbre)"
      ],
      "execution_count": null,
      "outputs": [
        {
          "output_type": "stream",
          "name": "stdout",
          "text": [
            "63\n",
            "['r', 'a', 'b', 'c', 'd', 'e', 'f', None, 'h', 'i', 'j', 'k', None, None, None, None, None, None, None, None, None, 'm', None, None, None, None, None, None, None, None, None, None, None, None, None, None, None, None, None, None, None, None, None, None, None, None, None, None, None, None, None, None, None, None, None, None, None, None, None, None, None, None, None]\n"
          ]
        }
      ]
    },
    {
      "cell_type": "code",
      "metadata": {
        "id": "C77xf7ykzXh5"
      },
      "source": [
        "def parent(arbre,p):\n",
        "    '''\n",
        "    renvoie le parent d'un noeud s'il est dans l'arbre\n",
        "    '''\n",
        "    if p in arbre:\n",
        "        indice = arbre.index(p)\n",
        "        if indice%2 == 0:\n",
        "            return arbre[(indice-2)//2]\n",
        "        else:\n",
        "            return arbre[(indice-1)//2]"
      ],
      "execution_count": null,
      "outputs": []
    },
    {
      "cell_type": "code",
      "source": [
        "print(parent(arbre,\"m\"))"
      ],
      "metadata": {
        "colab": {
          "base_uri": "https://localhost:8080/"
        },
        "id": "oeOKpsqUOlHo",
        "outputId": "860cc60c-4d67-432d-abaa-b90ce64670ad"
      },
      "execution_count": null,
      "outputs": [
        {
          "output_type": "stream",
          "name": "stdout",
          "text": [
            "j\n"
          ]
        }
      ]
    },
    {
      "cell_type": "markdown",
      "metadata": {
        "id": "k693mm4l0Uob"
      },
      "source": [
        "## **Exercice**"
      ]
    },
    {
      "cell_type": "markdown",
      "metadata": {
        "id": "mBp0gjYgzwVd"
      },
      "source": [
        "Créer les fonctions suivantes :\n",
        "\n",
        "1. Une fonction qui renvoie vrai si l’arbre est vide.\n",
        "2. Une fonction qui renvoie les enfants d’un noeud.\n",
        "3. Deux fonctions qui renvoie le fils gauche d’un noeud et son homologue le fils droit s’ils existent.\n",
        "4. Une fonction qui renvoie vrai si le noeud est la racine de l’arbre.\n",
        "5. Une fonction qui renvoie vrai si le noeud est une feuille.\n",
        "6. Une fonction qui renvoie vrai si le noeud a un frère gauche ou droit.\n"
      ]
    },
    {
      "cell_type": "code",
      "metadata": {
        "id": "Xn7c1lAyzvZ4"
      },
      "source": [
        "# Arbre vide"
      ],
      "execution_count": null,
      "outputs": []
    },
    {
      "cell_type": "code",
      "metadata": {
        "id": "dCMFXleW1D9S"
      },
      "source": [
        "# Enfants d'un noeud"
      ],
      "execution_count": null,
      "outputs": []
    },
    {
      "cell_type": "code",
      "metadata": {
        "id": "sdmaWCj_1IZB"
      },
      "source": [
        "# Fils gauche"
      ],
      "execution_count": null,
      "outputs": []
    },
    {
      "cell_type": "code",
      "metadata": {
        "id": "nvQPK8hU1MoP"
      },
      "source": [
        "# Fils droit"
      ],
      "execution_count": null,
      "outputs": []
    },
    {
      "cell_type": "code",
      "metadata": {
        "id": "oEYHvuHm1Okk"
      },
      "source": [
        "# Le noeud est-il la racine de l'arbre ?"
      ],
      "execution_count": null,
      "outputs": []
    },
    {
      "cell_type": "code",
      "metadata": {
        "id": "P6uAM7B51dBc"
      },
      "source": [
        "# Le noeud est-il une feuille ?"
      ],
      "execution_count": null,
      "outputs": []
    },
    {
      "cell_type": "code",
      "metadata": {
        "id": "6AEr_sem1guI"
      },
      "source": [
        "# Le noeud a-t-il un frère gauche ou droit ?"
      ],
      "execution_count": null,
      "outputs": []
    },
    {
      "cell_type": "markdown",
      "metadata": {
        "id": "F40YoWqSY0Xr"
      },
      "source": [
        "# Seconde approche"
      ]
    },
    {
      "cell_type": "markdown",
      "metadata": {
        "id": "b_-CySfeaQJJ"
      },
      "source": [
        "Le code Python ci-dessous, construit l’arbre de l’exercice précédent de manière récursive."
      ]
    },
    {
      "cell_type": "code",
      "metadata": {
        "colab": {
          "base_uri": "https://localhost:8080/"
        },
        "id": "Krnhbq3KY56w",
        "outputId": "f1a9ab07-23fb-43ee-d557-c9503ab0f6c0"
      },
      "source": [
        "def noeud(nom, fg = None, fd = None) :\n",
        "    return {'racine': nom, 'fg' : fg, 'fd': fd}\n",
        "    \n",
        "# création des noeuds\n",
        "k = noeud('k')\n",
        "f = noeud('f')\n",
        "e = noeud('e', k, None)\n",
        "b = noeud('b', e, f)\n",
        "m = noeud('m')\n",
        "j = noeud('j', m, None)\n",
        "i = noeud('i')\n",
        "d = noeud('d', i, j)\n",
        "h = noeud('h')\n",
        "c = noeud('c', None, h)\n",
        "a = noeud('a', c, d)\n",
        "racine = noeud('r', a, b)\n",
        "\n",
        "# création de l’arbre\n",
        "def construit(arbre) :\n",
        "    if arbre == None :\n",
        "        return []\n",
        "    else:\n",
        "        return [arbre['racine'],construit(arbre['fg']),construit(arbre['fd'])]\n",
        "arbre1=construit(racine)\n",
        "arbre1"
      ],
      "execution_count": null,
      "outputs": [
        {
          "output_type": "execute_result",
          "data": {
            "text/plain": [
              "['r',\n",
              " ['a',\n",
              "  ['c', [], ['h', [], []]],\n",
              "  ['d', ['i', [], []], ['j', ['m', [], []], []]]],\n",
              " ['b', ['e', ['k', [], []], []], ['f', [], []]]]"
            ]
          },
          "metadata": {
            "tags": []
          },
          "execution_count": 3
        }
      ]
    },
    {
      "cell_type": "code",
      "metadata": {
        "colab": {
          "base_uri": "https://localhost:8080/",
          "height": 35
        },
        "id": "aeKxdMrqEZui",
        "outputId": "8a5cdf86-ee22-4675-f2b5-e757e1bbf10a"
      },
      "source": [
        "arbre1[1][0]"
      ],
      "execution_count": null,
      "outputs": [
        {
          "output_type": "execute_result",
          "data": {
            "application/vnd.google.colaboratory.intrinsic+json": {
              "type": "string"
            },
            "text/plain": [
              "'a'"
            ]
          },
          "metadata": {
            "tags": []
          },
          "execution_count": 9
        }
      ]
    },
    {
      "cell_type": "code",
      "metadata": {
        "id": "i4tLXkkDqKBJ"
      },
      "source": [
        ""
      ],
      "execution_count": null,
      "outputs": []
    },
    {
      "cell_type": "markdown",
      "metadata": {
        "id": "CgQELvgtapcj"
      },
      "source": [
        "Les fonctions de l'exercice 1 sont assez évidentes à écrire puisqu’on a accès directement aux noeuds.\n",
        "\n",
        "Nous allons plutôt nous intéresser ici à la hauteur de l’arbre, ainsi qu’aux différentes façons de le parcourir:\n",
        "\n",
        "* Le parcours en largeur.\n",
        "\n",
        "* Les parcours en profondeur ( parcours préfixe, parcours infixe et parcours suffixe). \n"
      ]
    },
    {
      "cell_type": "markdown",
      "metadata": {
        "id": "58heOuYurv6v"
      },
      "source": [
        "## **Hauteur d'un arbre**"
      ]
    },
    {
      "cell_type": "code",
      "metadata": {
        "id": "67CIai4brsbE"
      },
      "source": [
        "#Calcul de la hauteur d'un arbre"
      ],
      "execution_count": null,
      "outputs": []
    },
    {
      "cell_type": "code",
      "metadata": {
        "id": "_lAzfx6xsOwh"
      },
      "source": [
        "#tests"
      ],
      "execution_count": null,
      "outputs": []
    },
    {
      "cell_type": "markdown",
      "metadata": {
        "id": "yE5NbyL5r-dW"
      },
      "source": [
        "## **Parcours en largeur**"
      ]
    },
    {
      "cell_type": "code",
      "metadata": {
        "id": "xWSiwDGyr-GZ"
      },
      "source": [
        "#Implémentation des files\n",
        "class File :\n",
        "    def __init__(self):\n",
        "        self.contenu=[]\n",
        "\n",
        "    def est_vide_file(self) :\n",
        "        return self.contenu==[]\n",
        "\n",
        "    def enfiler(self,x):\n",
        "        #self.contenu.insert(0,x)\n",
        "        # ou\n",
        "        self.contenu=[x]+self.contenu\n",
        "\n",
        "    def defiler(self):\n",
        "        assert not self.est_vide_file(), \"la file est vide\"\n",
        "        return self.contenu.pop()\n",
        "    \n",
        "    def __str__(self):       \n",
        "        \"\"\"\n",
        "        Hors-Programme : pour afficher convenablement la file avec print(p)\n",
        "        \"\"\"\n",
        "        s = \"|\"            \n",
        "        for k in self.contenu :\n",
        "            s = s + str(k) + \"|\"\n",
        "        return s"
      ],
      "execution_count": null,
      "outputs": []
    },
    {
      "cell_type": "code",
      "metadata": {
        "id": "81jSOdjFZNpn"
      },
      "source": [
        "def parcourslargeur(arbre):\n",
        "    file=File()\n",
        "    liste=[]\n",
        "    file.enfiler(arbre)\n",
        "    while not file.est_vide_file():\n",
        "        tmp=file.defiler()\n",
        "        liste.append(tmp[0])\n",
        "        if tmp[1]!=[]:\n",
        "            file.enfiler(tmp[1])\n",
        "        if tmp[2]!=[]:\n",
        "            file.enfiler(tmp[2])\n",
        "    return liste\n",
        "\n"
      ],
      "execution_count": null,
      "outputs": []
    },
    {
      "cell_type": "code",
      "metadata": {
        "colab": {
          "base_uri": "https://localhost:8080/"
        },
        "id": "ba-ApLHjaczw",
        "outputId": "07224dc9-935b-4870-feea-32b552596a0e"
      },
      "source": [
        "parcourslargeur(arbre1)"
      ],
      "execution_count": null,
      "outputs": [
        {
          "output_type": "execute_result",
          "data": {
            "text/plain": [
              "['r', 'a', 'b', 'c', 'd', 'e', 'f', 'h', 'i', 'j', 'k', 'm']"
            ]
          },
          "metadata": {
            "tags": []
          },
          "execution_count": 6
        }
      ]
    },
    {
      "cell_type": "markdown",
      "metadata": {
        "id": "zq94Kl6FCsf7"
      },
      "source": [
        "## Parcours préfixe"
      ]
    },
    {
      "cell_type": "code",
      "metadata": {
        "id": "cSROW1UeCxpb"
      },
      "source": [
        "def parcours_prefixe(arbre):\n",
        "    if arbre!=[]:\n",
        "        x=arbre[0]\n",
        "        print(x)\n",
        "        parcours_prefixe(arbre[1])\n",
        "        parcours_prefixe(arbre[2])\n",
        "   \n"
      ],
      "execution_count": null,
      "outputs": []
    },
    {
      "cell_type": "code",
      "metadata": {
        "colab": {
          "base_uri": "https://localhost:8080/"
        },
        "id": "yRfJEvC9EKEK",
        "outputId": "f4711c9e-1623-40cf-c593-28ebb9745743"
      },
      "source": [
        "parcours_prefixe(arbre1)"
      ],
      "execution_count": null,
      "outputs": [
        {
          "output_type": "stream",
          "text": [
            "r\n",
            "a\n",
            "c\n",
            "h\n",
            "d\n",
            "i\n",
            "j\n",
            "m\n",
            "b\n",
            "e\n",
            "k\n",
            "f\n"
          ],
          "name": "stdout"
        }
      ]
    },
    {
      "cell_type": "markdown",
      "metadata": {
        "id": "4Ir5E8xrHzPw"
      },
      "source": [
        "##Parcours infixe"
      ]
    },
    {
      "cell_type": "code",
      "metadata": {
        "id": "zwEjFnAQGTgn"
      },
      "source": [
        "def parcours_infixe(arbre):\n",
        "    if arbre!=[]:\n",
        "        parcours_infixe(arbre[1])\n",
        "        x=arbre[0]\n",
        "        print(x)\n",
        "        parcours_infixe(arbre[2])"
      ],
      "execution_count": null,
      "outputs": []
    },
    {
      "cell_type": "code",
      "metadata": {
        "colab": {
          "base_uri": "https://localhost:8080/"
        },
        "id": "O7nz1zN1G0Ws",
        "outputId": "b36b03b8-7b59-4f53-a803-212dd39e2a48"
      },
      "source": [
        "parcours_infixe(arbre1)"
      ],
      "execution_count": null,
      "outputs": [
        {
          "output_type": "stream",
          "text": [
            "c\n",
            "h\n",
            "a\n",
            "i\n",
            "d\n",
            "m\n",
            "j\n",
            "r\n",
            "k\n",
            "e\n",
            "b\n",
            "f\n"
          ],
          "name": "stdout"
        }
      ]
    },
    {
      "cell_type": "code",
      "metadata": {
        "id": "IdNIi87EZmno"
      },
      "source": [
        "chaine=''\n",
        "def parcours_infixe(arbre):\n",
        "    global chaine\n",
        "    if arbre!=[]:\n",
        "        chaine+='('\n",
        "        parcours_infixe(arbre[1])\n",
        "        x=arbre[0]\n",
        "        chaine+=x\n",
        "        parcours_infixe(arbre[2])\n",
        "        chaine+=')'\n",
        "    return chaine"
      ],
      "execution_count": null,
      "outputs": []
    },
    {
      "cell_type": "code",
      "metadata": {
        "colab": {
          "base_uri": "https://localhost:8080/",
          "height": 35
        },
        "id": "gPevcvdCaDWZ",
        "outputId": "a33fb47d-ad83-4d59-d8a1-068b6468d09b"
      },
      "source": [
        "parcours_infixe(arbre1)"
      ],
      "execution_count": null,
      "outputs": [
        {
          "output_type": "execute_result",
          "data": {
            "application/vnd.google.colaboratory.intrinsic+json": {
              "type": "string"
            },
            "text/plain": [
              "'(((c(h))a((i)d((m)j)))r(((k)e)b(f)))'"
            ]
          },
          "metadata": {
            "tags": []
          },
          "execution_count": 16
        }
      ]
    },
    {
      "cell_type": "markdown",
      "metadata": {
        "id": "fwGKuXKqH2nU"
      },
      "source": [
        "##Parcours suffixe"
      ]
    },
    {
      "cell_type": "markdown",
      "metadata": {
        "id": "GvkjqmPdSsdV"
      },
      "source": [
        "#Troisième approche avec une classe"
      ]
    },
    {
      "cell_type": "code",
      "metadata": {
        "id": "5XJO3-PhJqpz",
        "colab": {
          "base_uri": "https://localhost:8080/"
        },
        "outputId": "958edd0c-c533-4fa0-da5d-cbfe7fb4e11a"
      },
      "source": [
        "class Noeud:\n",
        "    # Le constructeur\n",
        "    def __init__(self, value, left=None, right=None):\n",
        "        self.value = value\n",
        "        self.left = left\n",
        "        self.right = right\n",
        "    \n",
        "    def estFeuille(self):\n",
        "        return self.left==None and self.right==None\n",
        "    # Méthode qui permet d’afficher la valeur\n",
        "    # de la racine avec la fonction print\n",
        "    def __str__(self):\n",
        "        return str(self.value)\n",
        "\n",
        "    def hauteur(self,h1=0,h2=0):\n",
        "      if not self :\n",
        "        return 0\n",
        "      elif self.right == None or self.left == None :\n",
        "        return 1\n",
        "      else :\n",
        "        h1 = 1 + self.left.hauteur(h1,h2)\n",
        "        h2 = 1 + self.right.hauteur(h1,h2)\n",
        "      return (max(h1,h2))\n",
        "\n",
        "k = Noeud('k')\n",
        "f = Noeud('f')\n",
        "e = Noeud('e', k, None)\n",
        "b = Noeud('b', e, f)\n",
        "m = Noeud('m')\n",
        "j = Noeud('j', m, None)\n",
        "i = Noeud('i')\n",
        "d = Noeud('d', i, j)\n",
        "h = Noeud('h')\n",
        "c = Noeud('c', None, h)\n",
        "a = Noeud('a', c, d)\n",
        "arbre = Noeud('r', a, b)\n",
        "print(arbre) # affiche r\n"
      ],
      "execution_count": null,
      "outputs": [
        {
          "output_type": "stream",
          "text": [
            "r\n"
          ],
          "name": "stdout"
        }
      ]
    },
    {
      "cell_type": "code",
      "metadata": {
        "id": "ab5Zx7qsVmZK"
      },
      "source": [
        "def taille(arbre):\n",
        "    nb=0\n",
        "    if not arbre.value==None:\n",
        "        nb+=1\n",
        "    if not arbre.left != None :\n",
        "        taille(arbre.left)\n",
        "    if not arbre.right != None :\n",
        "        taille(arbre.right)\n",
        "    return nb"
      ],
      "execution_count": null,
      "outputs": []
    },
    {
      "cell_type": "code",
      "metadata": {
        "colab": {
          "base_uri": "https://localhost:8080/"
        },
        "id": "9btVlSVrbr9M",
        "outputId": "72d46f07-92a7-4717-d93d-0d0fcf727b70"
      },
      "source": [
        "taille(arbre)"
      ],
      "execution_count": null,
      "outputs": [
        {
          "output_type": "execute_result",
          "data": {
            "text/plain": [
              "1"
            ]
          },
          "metadata": {
            "tags": []
          },
          "execution_count": 5
        }
      ]
    },
    {
      "cell_type": "code",
      "metadata": {
        "id": "36ObZlVlcniM"
      },
      "source": [
        "def taille(arbre):\n",
        "    if arbre is None :\n",
        "        return 0\n",
        "    else :\n",
        "        return 1+taille(arbre.left)+taille(arbre.right)\n",
        " "
      ],
      "execution_count": null,
      "outputs": []
    },
    {
      "cell_type": "code",
      "metadata": {
        "colab": {
          "base_uri": "https://localhost:8080/"
        },
        "id": "scVB93j7c9oi",
        "outputId": "25345378-4eea-41c4-f147-0e1f07158779"
      },
      "source": [
        "taille(arbre)"
      ],
      "execution_count": null,
      "outputs": [
        {
          "output_type": "execute_result",
          "data": {
            "text/plain": [
              "12"
            ]
          },
          "metadata": {
            "tags": []
          },
          "execution_count": 9
        }
      ]
    },
    {
      "cell_type": "code",
      "metadata": {
        "colab": {
          "base_uri": "https://localhost:8080/",
          "height": 302
        },
        "id": "5Btd-jouwwED",
        "outputId": "f075493f-c2ff-46c7-e57e-e4b83a6ed4fe"
      },
      "source": [
        "arbre.hauteur()"
      ],
      "execution_count": null,
      "outputs": [
        {
          "output_type": "error",
          "ename": "AttributeError",
          "evalue": "ignored",
          "traceback": [
            "\u001b[0;31m---------------------------------------------------------------------------\u001b[0m",
            "\u001b[0;31mAttributeError\u001b[0m                            Traceback (most recent call last)",
            "\u001b[0;32m<ipython-input-16-fe34a6f5e5b0>\u001b[0m in \u001b[0;36m<module>\u001b[0;34m()\u001b[0m\n\u001b[0;32m----> 1\u001b[0;31m \u001b[0marbre\u001b[0m\u001b[0;34m.\u001b[0m\u001b[0mhauteur\u001b[0m\u001b[0;34m(\u001b[0m\u001b[0;34m)\u001b[0m\u001b[0;34m\u001b[0m\u001b[0;34m\u001b[0m\u001b[0m\n\u001b[0m",
            "\u001b[0;32m<ipython-input-15-69a48e292d36>\u001b[0m in \u001b[0;36mhauteur\u001b[0;34m(self, h1, h2)\u001b[0m\n\u001b[1;32m     17\u001b[0m         \u001b[0;32mreturn\u001b[0m \u001b[0;34m-\u001b[0m\u001b[0;36m1\u001b[0m\u001b[0;34m\u001b[0m\u001b[0;34m\u001b[0m\u001b[0m\n\u001b[1;32m     18\u001b[0m       \u001b[0;32melse\u001b[0m \u001b[0;34m:\u001b[0m\u001b[0;34m\u001b[0m\u001b[0;34m\u001b[0m\u001b[0m\n\u001b[0;32m---> 19\u001b[0;31m         \u001b[0mh1\u001b[0m \u001b[0;34m=\u001b[0m \u001b[0;36m1\u001b[0m \u001b[0;34m+\u001b[0m \u001b[0mself\u001b[0m\u001b[0;34m.\u001b[0m\u001b[0mleft\u001b[0m\u001b[0;34m.\u001b[0m\u001b[0mhauteur\u001b[0m\u001b[0;34m(\u001b[0m\u001b[0mh1\u001b[0m\u001b[0;34m,\u001b[0m\u001b[0mh2\u001b[0m\u001b[0;34m)\u001b[0m\u001b[0;34m\u001b[0m\u001b[0;34m\u001b[0m\u001b[0m\n\u001b[0m\u001b[1;32m     20\u001b[0m         \u001b[0mh2\u001b[0m \u001b[0;34m=\u001b[0m \u001b[0;36m1\u001b[0m \u001b[0;34m+\u001b[0m \u001b[0mself\u001b[0m\u001b[0;34m.\u001b[0m\u001b[0mright\u001b[0m\u001b[0;34m.\u001b[0m\u001b[0mhauteur\u001b[0m\u001b[0;34m(\u001b[0m\u001b[0mh1\u001b[0m\u001b[0;34m,\u001b[0m\u001b[0mh2\u001b[0m\u001b[0;34m)\u001b[0m\u001b[0;34m\u001b[0m\u001b[0;34m\u001b[0m\u001b[0m\n\u001b[1;32m     21\u001b[0m       \u001b[0;32mreturn\u001b[0m \u001b[0;34m(\u001b[0m\u001b[0mmax\u001b[0m\u001b[0;34m(\u001b[0m\u001b[0mh1\u001b[0m\u001b[0;34m,\u001b[0m\u001b[0mh2\u001b[0m\u001b[0;34m)\u001b[0m\u001b[0;34m)\u001b[0m\u001b[0;34m\u001b[0m\u001b[0;34m\u001b[0m\u001b[0m\n",
            "\u001b[0;32m<ipython-input-15-69a48e292d36>\u001b[0m in \u001b[0;36mhauteur\u001b[0;34m(self, h1, h2)\u001b[0m\n\u001b[1;32m     17\u001b[0m         \u001b[0;32mreturn\u001b[0m \u001b[0;34m-\u001b[0m\u001b[0;36m1\u001b[0m\u001b[0;34m\u001b[0m\u001b[0;34m\u001b[0m\u001b[0m\n\u001b[1;32m     18\u001b[0m       \u001b[0;32melse\u001b[0m \u001b[0;34m:\u001b[0m\u001b[0;34m\u001b[0m\u001b[0;34m\u001b[0m\u001b[0m\n\u001b[0;32m---> 19\u001b[0;31m         \u001b[0mh1\u001b[0m \u001b[0;34m=\u001b[0m \u001b[0;36m1\u001b[0m \u001b[0;34m+\u001b[0m \u001b[0mself\u001b[0m\u001b[0;34m.\u001b[0m\u001b[0mleft\u001b[0m\u001b[0;34m.\u001b[0m\u001b[0mhauteur\u001b[0m\u001b[0;34m(\u001b[0m\u001b[0mh1\u001b[0m\u001b[0;34m,\u001b[0m\u001b[0mh2\u001b[0m\u001b[0;34m)\u001b[0m\u001b[0;34m\u001b[0m\u001b[0;34m\u001b[0m\u001b[0m\n\u001b[0m\u001b[1;32m     20\u001b[0m         \u001b[0mh2\u001b[0m \u001b[0;34m=\u001b[0m \u001b[0;36m1\u001b[0m \u001b[0;34m+\u001b[0m \u001b[0mself\u001b[0m\u001b[0;34m.\u001b[0m\u001b[0mright\u001b[0m\u001b[0;34m.\u001b[0m\u001b[0mhauteur\u001b[0m\u001b[0;34m(\u001b[0m\u001b[0mh1\u001b[0m\u001b[0;34m,\u001b[0m\u001b[0mh2\u001b[0m\u001b[0;34m)\u001b[0m\u001b[0;34m\u001b[0m\u001b[0;34m\u001b[0m\u001b[0m\n\u001b[1;32m     21\u001b[0m       \u001b[0;32mreturn\u001b[0m \u001b[0;34m(\u001b[0m\u001b[0mmax\u001b[0m\u001b[0;34m(\u001b[0m\u001b[0mh1\u001b[0m\u001b[0;34m,\u001b[0m\u001b[0mh2\u001b[0m\u001b[0;34m)\u001b[0m\u001b[0;34m)\u001b[0m\u001b[0;34m\u001b[0m\u001b[0;34m\u001b[0m\u001b[0m\n",
            "\u001b[0;32m<ipython-input-15-69a48e292d36>\u001b[0m in \u001b[0;36mhauteur\u001b[0;34m(self, h1, h2)\u001b[0m\n\u001b[1;32m     17\u001b[0m         \u001b[0;32mreturn\u001b[0m \u001b[0;34m-\u001b[0m\u001b[0;36m1\u001b[0m\u001b[0;34m\u001b[0m\u001b[0;34m\u001b[0m\u001b[0m\n\u001b[1;32m     18\u001b[0m       \u001b[0;32melse\u001b[0m \u001b[0;34m:\u001b[0m\u001b[0;34m\u001b[0m\u001b[0;34m\u001b[0m\u001b[0m\n\u001b[0;32m---> 19\u001b[0;31m         \u001b[0mh1\u001b[0m \u001b[0;34m=\u001b[0m \u001b[0;36m1\u001b[0m \u001b[0;34m+\u001b[0m \u001b[0mself\u001b[0m\u001b[0;34m.\u001b[0m\u001b[0mleft\u001b[0m\u001b[0;34m.\u001b[0m\u001b[0mhauteur\u001b[0m\u001b[0;34m(\u001b[0m\u001b[0mh1\u001b[0m\u001b[0;34m,\u001b[0m\u001b[0mh2\u001b[0m\u001b[0;34m)\u001b[0m\u001b[0;34m\u001b[0m\u001b[0;34m\u001b[0m\u001b[0m\n\u001b[0m\u001b[1;32m     20\u001b[0m         \u001b[0mh2\u001b[0m \u001b[0;34m=\u001b[0m \u001b[0;36m1\u001b[0m \u001b[0;34m+\u001b[0m \u001b[0mself\u001b[0m\u001b[0;34m.\u001b[0m\u001b[0mright\u001b[0m\u001b[0;34m.\u001b[0m\u001b[0mhauteur\u001b[0m\u001b[0;34m(\u001b[0m\u001b[0mh1\u001b[0m\u001b[0;34m,\u001b[0m\u001b[0mh2\u001b[0m\u001b[0;34m)\u001b[0m\u001b[0;34m\u001b[0m\u001b[0;34m\u001b[0m\u001b[0m\n\u001b[1;32m     21\u001b[0m       \u001b[0;32mreturn\u001b[0m \u001b[0;34m(\u001b[0m\u001b[0mmax\u001b[0m\u001b[0;34m(\u001b[0m\u001b[0mh1\u001b[0m\u001b[0;34m,\u001b[0m\u001b[0mh2\u001b[0m\u001b[0;34m)\u001b[0m\u001b[0;34m)\u001b[0m\u001b[0;34m\u001b[0m\u001b[0;34m\u001b[0m\u001b[0m\n",
            "\u001b[0;31mAttributeError\u001b[0m: 'NoneType' object has no attribute 'hauteur'"
          ]
        }
      ]
    },
    {
      "cell_type": "code",
      "metadata": {
        "id": "JhoWYafwKpws"
      },
      "source": [
        "arbre=Noeud('r',Noeud('a',Noeud('c',None,Noeud('h')),Noeud('d',Noeud('i'),Noeud('j',Noeud('m'),None))),Noeud('b',Noeud('e',Noeud('k',None,None),None),Noeud('f')))"
      ],
      "execution_count": null,
      "outputs": []
    },
    {
      "cell_type": "markdown",
      "metadata": {
        "id": "gQ4uKZ0rO9ha"
      },
      "source": [
        "#Application : Les arbres arithmétiques"
      ]
    },
    {
      "cell_type": "code",
      "metadata": {
        "id": "Cd8wXiAqO8Ry"
      },
      "source": [
        "import matplotlib.pyplot as plt\n",
        "\n",
        "class Arbre:\n",
        "    def __init__(self,valeur,filsgauche=None,filsdroit=None):\n",
        "        self.valeur=valeur\n",
        "        self.filsgauche=filsgauche\n",
        "        self.filsdroit=filsdroit\n",
        "    def __str__(self):\n",
        "        return str(self.valeur)\n",
        "    def estVide(self):\n",
        "        return self.valeur==None\n",
        "\n",
        "    def insertion_gauche(self,valeur):\n",
        "        if self.filsgauche==None:\n",
        "            self.filsgauche=Arbre(valeur)\n",
        "\n",
        "    def insertion_droite(self,valeur):\n",
        "        if self.filsdroit==None:\n",
        "            self.filsdroit=Arbre(valeur)\n",
        "\n",
        "    def hauteur(self):\n",
        "        listeh=[]\n",
        "        if self.valeur==None:\n",
        "            return 0\n",
        "        if self.filsgauche==None and  self.filsdroit==None :\n",
        "            return 0\n",
        "        else:\n",
        "            if self.filsgauche!=None:\n",
        "                listeh.append(self.filsgauche.hauteur())\n",
        "\n",
        "            if self.filsdroit!=None:\n",
        "                listeh.append(self.filsdroit.hauteur())\n",
        "\n",
        "            return max(listeh)+1\n",
        "\n",
        "    def dessine_recurs(self,x1,x2,y1,y2,dy):\n",
        "\n",
        "        if self.valeur==None:\n",
        "            return\n",
        "        xm=(x1+x2)//2\n",
        "        if self.filsgauche!=None:\n",
        "            self.filsgauche.dessine_recurs(x1,xm,y1,y2-dy,dy)\n",
        "        if self.filsdroit!=None:\n",
        "            self.filsdroit.dessine_recurs(xm,x2,y1,y2-dy,dy)\n",
        "        plt.text(xm+10,y2,self.valeur)\n",
        "        if self.filsgauche!=None:\n",
        "            plt.plot((xm, (x1 + xm) // 2), (y2, y2 - dy),'dodgerblue',marker='o')\n",
        "        if self.filsdroit!=None:\n",
        "            plt.plot((xm, (x2 + xm) // 2), (y2, y2 - dy),'dodgerblue',marker='o')\n",
        "\n",
        "\n",
        "    def dessine(self):\n",
        "        d=512\n",
        "        pad=20\n",
        "        dy=(d-2*pad)/(self.hauteur()+1)\n",
        "        self.dessine_recurs(pad,d-pad,pad,d-pad,dy)\n",
        "        plt.axis([0, d, 0, d])\n",
        "        plt.axis('off')\n",
        "        plt.show()\n",
        "\n",
        "    def dessinePays(self):\n",
        "        d=512\n",
        "        pad=20\n",
        "        dy=(d-2*pad)/(self.hauteur()+1)\n",
        "        self.dessine_recursPays(pad,d-pad,pad,d-pad,dy)\n",
        "        plt.axis([0, d, 0, d])\n",
        "        plt.axis('off')\n",
        "        plt.show()\n",
        "\n",
        "    def dessine_recursPays(self,x1,x2,y1,y2,dy):\n",
        "\n",
        "        if self.valeur==None:\n",
        "            return\n",
        "        xm=(x1+x2)//2\n",
        "        if self.filsgauche!=None:\n",
        "            self.filsgauche.dessine_recursPays(x1,xm,y1,y2-dy,dy)\n",
        "        if self.filsdroit!=None:\n",
        "            self.filsdroit.dessine_recursPays(xm,x2,y1,y2-dy,dy)\n",
        "        plt.text(xm+10,y2,self.valeur[2])\n",
        "        if self.filsgauche!=None:\n",
        "            plt.plot((xm, (x1 + xm) // 2), (y2, y2 - dy),'dodgerblue',marker='o')\n",
        "        if self.filsdroit!=None:\n",
        "            plt.plot((xm, (x2 + xm) // 2), (y2, y2 - dy),'dodgerblue',marker='o')"
      ],
      "execution_count": null,
      "outputs": []
    },
    {
      "cell_type": "code",
      "metadata": {
        "colab": {
          "base_uri": "https://localhost:8080/",
          "height": 248
        },
        "id": "6kHylbbCPQGU",
        "outputId": "afecc211-bc52-419e-c1f1-5b30ed62017f"
      },
      "source": [
        "#Exemple d'utilisation de la classe Arbre\n",
        "exemple=Arbre('r',Arbre('a',Arbre('c',None,Arbre('h')),Arbre('d',Arbre('i'),Arbre('j',Arbre('m'),None))),Arbre('b',Arbre('e',Arbre('k',None,None),None),Arbre('f')))\n",
        "exemple.dessine()"
      ],
      "execution_count": null,
      "outputs": [
        {
          "output_type": "display_data",
          "data": {
            "image/png": "[encoded data removed]",
            "text/plain": [
              "<Figure size 432x288 with 1 Axes>"
            ]
          },
          "metadata": {
            "tags": [],
            "needs_background": "light"
          }
        }
      ]
    },
    {
      "cell_type": "markdown",
      "metadata": {
        "id": "x32Z3QC3P1wl"
      },
      "source": [
        "Nous avons vu dans la première partie qu'il était possible de coder une expression arithmétique dans un arbre binaire. En effet l'arithmétique correspond à la combinaison d'un opérateur (+, -, x, /) et de deux opérandes (entiers, réels...)."
      ]
    },
    {
      "cell_type": "markdown",
      "metadata": {
        "id": "1Wvs3J-1QLci"
      },
      "source": [
        "1. Construire, à l'aide de la classe Arbre, l'arbre arithmétique présenté à la page 2 du cours."
      ]
    },
    {
      "cell_type": "code",
      "metadata": {
        "id": "vFXWmc_cQSjn"
      },
      "source": [
        ""
      ],
      "execution_count": null,
      "outputs": []
    },
    {
      "cell_type": "markdown",
      "metadata": {
        "id": "L2AKWLaCQm6_"
      },
      "source": [
        "L'intérêt de construire un tel arbre à partir d'une expression arithmétique est multiple :\n",
        "\n",
        "C'est utile pour calculer cette expression (il faut bien comprendre qu'ici \"(x+1)(3y+2)\" est de type str et que si l'on connaît les valeur de x et de y il n'est pas simple de calculer sa valeur).\n",
        "\n",
        "* Cela peut être utile pour résoudre de manière formelle une équation\n",
        "\n",
        "* Cela peut être utile également pour calculer de manière formelle la dérivéed'une expression.\n",
        "\n",
        "Voici, ci-dessous, l'algorithme (récursif) qui permet de calculer la valeur d'une expression arithmétique contenue dans un arbre binaire :"
      ]
    },
    {
      "cell_type": "markdown",
      "metadata": {
        "id": "EUpcnx9AQ5j5"
      },
      "source": [
        "`méthode calcule(arbre arithmétique)`\n",
        "\n",
        "\tdonnée : arbre binaire arithmétique\n",
        "\trésultat : valeur de l'expression arithmétique\n",
        "\t\n",
        "\tSi l'arbre est une feuille alors :\n",
        "\t\trésultat = valeur de la feuille\n",
        "\tSinon si l'étiquette du nœud est '+' alors:\n",
        "\t\trésultat = calcule(filsgauche) + calcule(filsdroit)\n",
        "\t\n",
        "\tSinon si l'étiquette du nœud est '-' alors:\n",
        "\t\trésultat = calcule(filsgauche) - calcule(filsdroit)\n",
        "\t\n",
        "\tSinon si l'étiquette du nœud est '*' alors:\n",
        "\t\trésultat = calcule(filsgauche) * calcule(filsdroit)\n",
        "\t\n",
        "\tSinon si l'étiquette du nœud est '/' alors:\n",
        "\t\trésultat = calcule(filsgauche) / calcule(filsdroit)\n",
        "\t\n",
        "\tSinon\n",
        "\t\trésultat = vide\n",
        "\t\n",
        "\tRenvoyer résultat\t"
      ]
    },
    {
      "cell_type": "markdown",
      "metadata": {
        "id": "O19QY4GFRFez"
      },
      "source": [
        "2. Implémenter une méthode `calculer` qui permet d'évaluer la valeur d'une expression arithmétique présentée sous forme d'arbre binaire arithmétique."
      ]
    },
    {
      "cell_type": "markdown",
      "metadata": {
        "id": "UR3t_VRqyZKt"
      },
      "source": [
        "#**Le code morse** "
      ]
    },
    {
      "cell_type": "code",
      "metadata": {
        "id": "merAvFVDyehL"
      },
      "source": [
        "dicomorse = { 'A':'.-', 'B':'-...','C':'-.-.', 'D':'-..', 'E':'.', 'F':'..-.','G':'--.', 'H':'....','I':'..','J':'.---','K':'-.-','L':'.-..', 'M':'--', 'N':'-.','O':'---', 'P':'.--.', 'Q':'--.-','R':'.-.', 'S':'...','T':'-','U':'..-','V':'...-', 'W':'.--','X':'-..-', 'Y':'-.--', 'Z':'--..','1':'.----', '2':'..---', '3':'...--','4':'....-', '5':'.....', '6' :'-....','7':'--...', '8':'---..','9':'----.','0':'-----', ',':'--..--', '.':'.-.-.-','?':'..--..', '/':'-..-.','-':'-....-','(':'-.--.', ')':'-.--.-'}\n",
        "liste=[(cle,valeur) for (cle,valeur) in dicomorse.items()]\n",
        "liste.sort(key=lambda x :len(x[1]))\n",
        "liste"
      ],
      "execution_count": null,
      "outputs": []
    },
    {
      "cell_type": "markdown",
      "metadata": {
        "id": "cCiYESCdpwRw"
      },
      "source": [
        ""
      ]
    },
    {
      "cell_type": "code",
      "metadata": {
        "id": "qV3z_34mfwnN"
      },
      "source": [
        "test=[('E', '.'),\n",
        " ('T', '-'),('A', '.-'),\n",
        " ('I', '..'), ('M', '--'),('N', '-.'),\n",
        " ('D', '-..'),\n",
        " ('G', '--.'),\n",
        " ('K', '-.-')]"
      ],
      "execution_count": null,
      "outputs": []
    },
    {
      "cell_type": "code",
      "metadata": {
        "colab": {
          "base_uri": "https://localhost:8080/",
          "height": 35
        },
        "id": "GCEbLYe1nTiz",
        "outputId": "d2e2f4a6-bcc6-4007-e265-52790d073cb5"
      },
      "source": [
        "test[2][1][1]"
      ],
      "execution_count": null,
      "outputs": [
        {
          "output_type": "execute_result",
          "data": {
            "application/vnd.google.colaboratory.intrinsic+json": {
              "type": "string"
            },
            "text/plain": [
              "'-'"
            ]
          },
          "metadata": {
            "tags": []
          },
          "execution_count": 43
        }
      ]
    },
    {
      "cell_type": "code",
      "metadata": {
        "id": "V-qCnSY4mEoq"
      },
      "source": [
        "print(arbre.filsgauche.filsgauche)"
      ],
      "execution_count": null,
      "outputs": []
    },
    {
      "cell_type": "code",
      "metadata": {
        "id": "_mLI09Am78WD",
        "colab": {
          "base_uri": "https://localhost:8080/",
          "height": 1000
        },
        "outputId": "1eba5981-e858-418c-bcfa-eedac21f48dc"
      },
      "source": [
        "arbre=Arbre('')\n",
        "\n",
        "def inserer(arbre,lettre,j):\n",
        "            print(lettre[1])\n",
        "            if lettre[1][j]=='.':\n",
        "                if arbre.filsgauche!=None:\n",
        "                    print(\"A gauche\")\n",
        "                    inserer(arbre.filsgauche,lettre,j+1)\n",
        "                    \n",
        "                else:\n",
        "                    print(\"nouveau noeud à gauche\")\n",
        "                    arbre.insertion_gauche(lettre[0])\n",
        "                    \n",
        "            if lettre[1][j]=='-':\n",
        "                if arbre.filsdroit!=None:\n",
        "                    print(\"A droite\")\n",
        "                    inserer(arbre.filsdroit,lettre,j+1)\n",
        "                  \n",
        "                else:\n",
        "                    print(\"nouveau noeud à droite\")\n",
        "                    arbre.insertion_droite(lettre[0])\n",
        "                    \n",
        "for lettre in liste :\n",
        "    print(lettre)\n",
        "    inserer(arbre,lettre,0)\n",
        "\n",
        "arbre.dessine()"
      ],
      "execution_count": null,
      "outputs": [
        {
          "output_type": "stream",
          "text": [
            "('E', '.')\n",
            ".\n",
            "nouveau noeud à gauche\n",
            "('T', '-')\n",
            "-\n",
            "nouveau noeud à droite\n",
            "('A', '.-')\n",
            ".-\n",
            "A gauche\n",
            ".-\n",
            "nouveau noeud à droite\n",
            "('I', '..')\n",
            "..\n",
            "A gauche\n",
            "..\n",
            "nouveau noeud à gauche\n",
            "('M', '--')\n",
            "--\n",
            "A droite\n",
            "--\n",
            "nouveau noeud à droite\n",
            "('N', '-.')\n",
            "-.\n",
            "A droite\n",
            "-.\n",
            "nouveau noeud à gauche\n",
            "('D', '-..')\n",
            "-..\n",
            "A droite\n",
            "-..\n",
            "A gauche\n",
            "-..\n",
            "nouveau noeud à gauche\n",
            "('G', '--.')\n",
            "--.\n",
            "A droite\n",
            "--.\n",
            "A droite\n",
            "--.\n",
            "nouveau noeud à gauche\n",
            "('K', '-.-')\n",
            "-.-\n",
            "A droite\n",
            "-.-\n",
            "A gauche\n",
            "-.-\n",
            "nouveau noeud à droite\n",
            "('O', '---')\n",
            "---\n",
            "A droite\n",
            "---\n",
            "A droite\n",
            "---\n",
            "nouveau noeud à droite\n",
            "('R', '.-.')\n",
            ".-.\n",
            "A gauche\n",
            ".-.\n",
            "A droite\n",
            ".-.\n",
            "nouveau noeud à gauche\n",
            "('S', '...')\n",
            "...\n",
            "A gauche\n",
            "...\n",
            "A gauche\n",
            "...\n",
            "nouveau noeud à gauche\n",
            "('U', '..-')\n",
            "..-\n",
            "A gauche\n",
            "..-\n",
            "A gauche\n",
            "..-\n",
            "nouveau noeud à droite\n",
            "('W', '.--')\n",
            ".--\n",
            "A gauche\n",
            ".--\n",
            "A droite\n",
            ".--\n",
            "nouveau noeud à droite\n",
            "('B', '-...')\n",
            "-...\n",
            "A droite\n",
            "-...\n",
            "A gauche\n",
            "-...\n",
            "A gauche\n",
            "-...\n",
            "nouveau noeud à gauche\n",
            "('C', '-.-.')\n",
            "-.-.\n",
            "A droite\n",
            "-.-.\n",
            "A gauche\n",
            "-.-.\n",
            "A droite\n",
            "-.-.\n",
            "nouveau noeud à gauche\n",
            "('F', '..-.')\n",
            "..-.\n",
            "A gauche\n",
            "..-.\n",
            "A gauche\n",
            "..-.\n",
            "A droite\n",
            "..-.\n",
            "nouveau noeud à gauche\n",
            "('H', '....')\n",
            "....\n",
            "A gauche\n",
            "....\n",
            "A gauche\n",
            "....\n",
            "A gauche\n",
            "....\n",
            "nouveau noeud à gauche\n",
            "('J', '.---')\n",
            ".---\n",
            "A gauche\n",
            ".---\n",
            "A droite\n",
            ".---\n",
            "A droite\n",
            ".---\n",
            "nouveau noeud à droite\n",
            "('L', '.-..')\n",
            ".-..\n",
            "A gauche\n",
            ".-..\n",
            "A droite\n",
            ".-..\n",
            "A gauche\n",
            ".-..\n",
            "nouveau noeud à gauche\n",
            "('P', '.--.')\n",
            ".--.\n",
            "A gauche\n",
            ".--.\n",
            "A droite\n",
            ".--.\n",
            "A droite\n",
            ".--.\n",
            "nouveau noeud à gauche\n",
            "('Q', '--.-')\n",
            "--.-\n",
            "A droite\n",
            "--.-\n",
            "A droite\n",
            "--.-\n",
            "A gauche\n",
            "--.-\n",
            "nouveau noeud à droite\n",
            "('V', '...-')\n",
            "...-\n",
            "A gauche\n",
            "...-\n",
            "A gauche\n",
            "...-\n",
            "A gauche\n",
            "...-\n",
            "nouveau noeud à droite\n",
            "('X', '-..-')\n",
            "-..-\n",
            "A droite\n",
            "-..-\n",
            "A gauche\n",
            "-..-\n",
            "A gauche\n",
            "-..-\n",
            "nouveau noeud à droite\n",
            "('Y', '-.--')\n",
            "-.--\n",
            "A droite\n",
            "-.--\n",
            "A gauche\n",
            "-.--\n",
            "A droite\n",
            "-.--\n",
            "nouveau noeud à droite\n",
            "('Z', '--..')\n",
            "--..\n",
            "A droite\n",
            "--..\n",
            "A droite\n",
            "--..\n",
            "A gauche\n",
            "--..\n",
            "nouveau noeud à gauche\n",
            "('1', '.----')\n",
            ".----\n",
            "A gauche\n",
            ".----\n",
            "A droite\n",
            ".----\n",
            "A droite\n",
            ".----\n",
            "A droite\n",
            ".----\n",
            "nouveau noeud à droite\n",
            "('2', '..---')\n",
            "..---\n",
            "A gauche\n",
            "..---\n",
            "A gauche\n",
            "..---\n",
            "A droite\n",
            "..---\n",
            "nouveau noeud à droite\n",
            "('3', '...--')\n",
            "...--\n",
            "A gauche\n",
            "...--\n",
            "A gauche\n",
            "...--\n",
            "A gauche\n",
            "...--\n",
            "A droite\n",
            "...--\n",
            "nouveau noeud à droite\n",
            "('4', '....-')\n",
            "....-\n",
            "A gauche\n",
            "....-\n",
            "A gauche\n",
            "....-\n",
            "A gauche\n",
            "....-\n",
            "A gauche\n",
            "....-\n",
            "nouveau noeud à droite\n",
            "('5', '.....')\n",
            ".....\n",
            "A gauche\n",
            ".....\n",
            "A gauche\n",
            ".....\n",
            "A gauche\n",
            ".....\n",
            "A gauche\n",
            ".....\n",
            "nouveau noeud à gauche\n",
            "('6', '-....')\n",
            "-....\n",
            "A droite\n",
            "-....\n",
            "A gauche\n",
            "-....\n",
            "A gauche\n",
            "-....\n",
            "A gauche\n",
            "-....\n",
            "nouveau noeud à gauche\n",
            "('7', '--...')\n",
            "--...\n",
            "A droite\n",
            "--...\n",
            "A droite\n",
            "--...\n",
            "A gauche\n",
            "--...\n",
            "A gauche\n",
            "--...\n",
            "nouveau noeud à gauche\n",
            "('8', '---..')\n",
            "---..\n",
            "A droite\n",
            "---..\n",
            "A droite\n",
            "---..\n",
            "A droite\n",
            "---..\n",
            "nouveau noeud à gauche\n",
            "('9', '----.')\n",
            "----.\n",
            "A droite\n",
            "----.\n",
            "A droite\n",
            "----.\n",
            "A droite\n",
            "----.\n",
            "nouveau noeud à droite\n",
            "('0', '-----')\n",
            "-----\n",
            "A droite\n",
            "-----\n",
            "A droite\n",
            "-----\n",
            "A droite\n",
            "-----\n",
            "A droite\n",
            "-----\n",
            "nouveau noeud à droite\n",
            "('/', '-..-.')\n",
            "-..-.\n",
            "A droite\n",
            "-..-.\n",
            "A gauche\n",
            "-..-.\n",
            "A gauche\n",
            "-..-.\n",
            "A droite\n",
            "-..-.\n",
            "nouveau noeud à gauche\n",
            "('(', '-.--.')\n",
            "-.--.\n",
            "A droite\n",
            "-.--.\n",
            "A gauche\n",
            "-.--.\n",
            "A droite\n",
            "-.--.\n",
            "A droite\n",
            "-.--.\n",
            "nouveau noeud à gauche\n",
            "(',', '--..--')\n",
            "--..--\n",
            "A droite\n",
            "--..--\n",
            "A droite\n",
            "--..--\n",
            "A gauche\n",
            "--..--\n",
            "A gauche\n",
            "--..--\n",
            "nouveau noeud à droite\n",
            "('.', '.-.-.-')\n",
            ".-.-.-\n",
            "A gauche\n",
            ".-.-.-\n",
            "A droite\n",
            ".-.-.-\n",
            "A gauche\n",
            ".-.-.-\n",
            "nouveau noeud à droite\n",
            "('?', '..--..')\n",
            "..--..\n",
            "A gauche\n",
            "..--..\n",
            "A gauche\n",
            "..--..\n",
            "A droite\n",
            "..--..\n",
            "A droite\n",
            "..--..\n",
            "nouveau noeud à gauche\n",
            "('-', '-....-')\n",
            "-....-\n",
            "A droite\n",
            "-....-\n",
            "A gauche\n",
            "-....-\n",
            "A gauche\n",
            "-....-\n",
            "A gauche\n",
            "-....-\n",
            "A gauche\n",
            "-....-\n",
            "nouveau noeud à droite\n",
            "(')', '-.--.-')\n",
            "-.--.-\n",
            "A droite\n",
            "-.--.-\n",
            "A gauche\n",
            "-.--.-\n",
            "A droite\n",
            "-.--.-\n",
            "A droite\n",
            "-.--.-\n",
            "A gauche\n",
            "-.--.-\n",
            "nouveau noeud à droite\n"
          ],
          "name": "stdout"
        },
        {
          "output_type": "display_data",
          "data": {
            "image/png": "[encoded data removed]",
            "text/plain": [
              "<Figure size 432x288 with 1 Axes>"
            ]
          },
          "metadata": {
            "tags": [],
            "needs_background": "light"
          }
        }
      ]
    },
    {
      "cell_type": "code",
      "metadata": {
        "id": "VI5GUQkTy2LH"
      },
      "source": [
        "\n",
        "    \n"
      ],
      "execution_count": null,
      "outputs": []
    },
    {
      "cell_type": "code",
      "metadata": {
        "id": "cHkZcTZ7zwpd"
      },
      "source": [
        "arbre = Arbre('',None,None)\n",
        "for i in range (len(liste)):\n",
        "    sous_arbre=arbre\n",
        "    inserer(sous_arbre,liste[i][0])\n",
        "    \n",
        "    \n",
        "    \n",
        "arbre.dessine()"
      ],
      "execution_count": null,
      "outputs": []
    },
    {
      "cell_type": "code",
      "metadata": {
        "id": "A3ThY9Xi5X5M"
      },
      "source": [
        "arbre = Arbre('',None,None)\n",
        "for i in range(len(liste)):\n",
        "    sous_arbre=arbre\n",
        "    print(\"arbre\")\n",
        "    arbre.dessine()\n",
        "    for j in range(len(liste[i][1])-1):\n",
        "      if liste[i][1][j] == '.':\n",
        "        if sous_arbre.filsgauche==None:\n",
        "          sous_arbre.insertion_gauche('')\n",
        "        sous_arbre=sous_arbre.filsgauche\n",
        "      elif liste[i][1][j] == '-':\n",
        "        if sous_arbre.filsdroit==None:\n",
        "          sous_arbre.insertion_droite('')\n",
        "        sous_arbre=sous_arbre.filsdroit\n",
        "    if liste[i][1][-1] == '.':\n",
        "      sous_arbre.insertion_gauche(liste[i][0])\n",
        "      print(\"insertion à gauche de \",liste[i][0])\n",
        "      sous_arbre.dessine()\n",
        "    elif liste[i][1][-1] == '-':\n",
        "      sous_arbre.insertion_droite(liste[i][0])\n",
        "      print(\"insertion à droite de \",liste[i][0])\n",
        "      sous_arbre.dessine()\n",
        "        \n",
        "\n",
        "arbre.dessine()"
      ],
      "execution_count": null,
      "outputs": []
    },
    {
      "cell_type": "code",
      "metadata": {
        "id": "zOB6vbsBwRSC"
      },
      "source": [
        "class Noeud:\n",
        "    # Le constructeur\n",
        "    def __init__(self, value, left=None, right=None):\n",
        "        self.value = value\n",
        "        self.left = left\n",
        "        self.right = right\n",
        "        self.parent = None\n",
        "\n",
        "    def estFeuille(self):\n",
        "        if not self.left and not self.right:\n",
        "            return True\n",
        "        else:\n",
        "            return False\n",
        "\n",
        "    def __str__(self):\n",
        "        return str(self.value)\n",
        "\n",
        "    def insert(self, valeur):\n",
        "        if valeur < self.value:\n",
        "            if self.left is None:\n",
        "                self.left = Noeud(valeur)\n",
        "                self.left.parent = self\n",
        "            else:\n",
        "                self.left.insert(valeur)\n",
        "        elif valeur > self.value:\n",
        "            if self.right is None:\n",
        "                self.right = Noeud(valeur)\n",
        "                self.right.parent = self\n",
        "            else:\n",
        "                self.right.insert(valeur)\n"
      ],
      "execution_count": null,
      "outputs": []
    },
    {
      "cell_type": "code",
      "metadata": {
        "id": "UqseKb5vEiqe"
      },
      "source": [
        "import matplotlib.pyplot as plt\n",
        "\n",
        "class Arbre:\n",
        "    def __init__(self,valeur,filsgauche=None,filsdroit=None):\n",
        "        self.valeur=valeur\n",
        "        self.filsgauche=filsgauche\n",
        "        self.filsdroit=filsdroit\n",
        "        self.parent=None\n",
        "\n",
        "    def __str__(self):\n",
        "        return str(self.valeur)\n",
        "    def insert(self, v):\n",
        "        if v < self.valeur:\n",
        "            if self.filsgauche is None:\n",
        "                self.filsgauche = Arbre(v)\n",
        "                self.filsgauche.parent = self\n",
        "            else:\n",
        "                self.filsgauche.insert(v)\n",
        "        elif v > self.valeur:\n",
        "            if self.filsdroit is None:\n",
        "                self.filsdroit = Arbre(v)\n",
        "                self.filsdroit.parent = self\n",
        "            else:\n",
        "                self.filsdroit.insert(v)\n",
        "\n",
        "    def estVide(self):\n",
        "        return self.valeur==None\n",
        "\n",
        "    def insertion_gauche(self,valeur):\n",
        "        if self.filsgauche==None:\n",
        "            self.filsgauche=Arbre(valeur)\n",
        "\n",
        "    def insertion_droite(self,valeur):\n",
        "        if self.filsdroit==None:\n",
        "            self.filsdroit=Arbre(valeur)\n",
        "\n",
        "    def hauteur(self):\n",
        "        listeh=[]\n",
        "        if self.valeur==None:\n",
        "            return 0\n",
        "        if self.filsgauche==None and  self.filsdroit==None :\n",
        "            return 0\n",
        "        else:\n",
        "            if self.filsgauche!=None:\n",
        "                listeh.append(self.filsgauche.hauteur())\n",
        "\n",
        "            if self.filsdroit!=None:\n",
        "                listeh.append(self.filsdroit.hauteur())\n",
        "\n",
        "            return max(listeh)+1\n",
        "\n",
        "    def dessine_recurs(self,x1,x2,y1,y2,dy):\n",
        "\n",
        "        if self.valeur==None:\n",
        "            return\n",
        "        xm=(x1+x2)//2\n",
        "        if self.filsgauche!=None:\n",
        "            self.filsgauche.dessine_recurs(x1,xm,y1,y2-dy,dy)\n",
        "        if self.filsdroit!=None:\n",
        "            self.filsdroit.dessine_recurs(xm,x2,y1,y2-dy,dy)\n",
        "        plt.text(xm+10,y2,self.valeur)\n",
        "        if self.filsgauche!=None:\n",
        "            plt.plot((xm, (x1 + xm) // 2), (y2, y2 - dy),'dodgerblue',marker='o')\n",
        "        if self.filsdroit!=None:\n",
        "            plt.plot((xm, (x2 + xm) // 2), (y2, y2 - dy),'dodgerblue',marker='o')\n",
        "\n",
        "\n",
        "    def dessine(self):\n",
        "        d=512\n",
        "        pad=20\n",
        "        dy=(d-2*pad)/(self.hauteur()+1)\n",
        "        self.dessine_recurs(pad,d-pad,pad,d-pad,dy)\n",
        "        plt.axis([0, d, 0, d])\n",
        "        plt.axis('off')\n",
        "        plt.show()\n",
        "\n",
        "    def dessinePays(self):\n",
        "        d=512\n",
        "        pad=20\n",
        "        dy=(d-2*pad)/(self.hauteur()+1)\n",
        "        self.dessine_recursPays(pad,d-pad,pad,d-pad,dy)\n",
        "        plt.axis([0, d, 0, d])\n",
        "        plt.axis('off')\n",
        "        plt.show()\n",
        "\n",
        "    def dessine_recursPays(self,x1,x2,y1,y2,dy):\n",
        "\n",
        "        if self.valeur==None:\n",
        "            return\n",
        "        xm=(x1+x2)//2\n",
        "        if self.filsgauche!=None:\n",
        "            self.filsgauche.dessine_recursPays(x1,xm,y1,y2-dy,dy)\n",
        "        if self.filsdroit!=None:\n",
        "            self.filsdroit.dessine_recursPays(xm,x2,y1,y2-dy,dy)\n",
        "        plt.text(xm+10,y2,self.valeur[2])\n",
        "        if self.filsgauche!=None:\n",
        "            plt.plot((xm, (x1 + xm) // 2), (y2, y2 - dy),'dodgerblue',marker='o')\n",
        "        if self.filsdroit!=None:\n",
        "            plt.plot((xm, (x2 + xm) // 2), (y2, y2 - dy),'dodgerblue',marker='o')"
      ],
      "execution_count": null,
      "outputs": []
    },
    {
      "cell_type": "code",
      "metadata": {
        "colab": {
          "base_uri": "https://localhost:8080/",
          "height": 248
        },
        "id": "XDeDcjISEMQc",
        "outputId": "6fa5b373-7473-4d7f-ff0e-1055c9b21533"
      },
      "source": [
        "bst = Arbre(6)\n",
        "bst.insert(8)\n",
        "bst.insert(3)\n",
        "bst.insert(1)\n",
        "bst.insert(4)\n",
        "bst.insert(9)\n",
        "bst.insert(2)\n",
        "bst.insert(7)\n",
        "bst.insert(5)\n",
        "bst.dessine()"
      ],
      "execution_count": null,
      "outputs": [
        {
          "output_type": "display_data",
          "data": {
            "image/png": "[encoded data removed]",
            "text/plain": [
              "<Figure size 432x288 with 1 Axes>"
            ]
          },
          "metadata": {
            "tags": [],
            "needs_background": "light"
          }
        }
      ]
    },
    {
      "cell_type": "code",
      "metadata": {
        "id": "sZVLNzOzVGQT"
      },
      "source": [
        "class Ville :\n",
        "    \"\"\"\n",
        "    classe définissant une ville de France.\n",
        "    Chaque ville a 4 attributs :\n",
        "        - nom\n",
        "        - numero de departement\n",
        "        - population (hab)\n",
        "        - superficie (km^2)\n",
        "        - rang au niveau national (place)\n",
        "\n",
        "    Exemple :\n",
        "    >>> liste = ['Nice', '6','343123','71.9','5']\n",
        "    >>> ville=Ville(liste)\n",
        "    >>> ville.nom\n",
        "    'Nice'\n",
        "    >>> ville.departement\n",
        "    6\n",
        "    >>> ville.superficie\n",
        "    343123\n",
        "    \"\"\"\n"
      ],
      "execution_count": null,
      "outputs": []
    },
    {
      "cell_type": "code",
      "metadata": {
        "colab": {
          "base_uri": "https://localhost:8080/"
        },
        "id": "bURq5PsRVx2w",
        "outputId": "61a6471f-7d77-4982-b32e-4dcb80a40fe1"
      },
      "source": [
        "ville.superficie"
      ],
      "execution_count": null,
      "outputs": [
        {
          "output_type": "execute_result",
          "data": {
            "text/plain": [
              "71.9"
            ]
          },
          "metadata": {
            "tags": []
          },
          "execution_count": 6
        }
      ]
    },
    {
      "cell_type": "code",
      "metadata": {
        "id": "c79qZegIZ7Sd"
      },
      "source": [
        "class Noeud:\n",
        "    def __init__(self,liste,filsgauche=None,filsdroit=None):\n",
        "        self.ville=Ville(liste)\n",
        "        self.filsgauche=filsgauche\n",
        "        self.filsdroit=filsdroit\n",
        "\n",
        "    def __str__(self):\n",
        "        return str(self.valeur)\n",
        "\n",
        "    def estFeuille(self):\n",
        "        return not self.filsgauche and not self.filsdroit"
      ],
      "execution_count": null,
      "outputs": []
    },
    {
      "cell_type": "markdown",
      "metadata": {
        "id": "4e37JFX6cfoY"
      },
      "source": [
        "# ABR pour classer des villes"
      ]
    },
    {
      "cell_type": "code",
      "metadata": {
        "id": "wdpUBEB0csV8",
        "outputId": "25612fec-fd71-459b-e8ff-694e7b54bb18",
        "colab": {
          "base_uri": "https://localhost:8080/",
          "height": 234
        }
      },
      "source": [
        "import csv\n",
        "liste_villes=[]\n",
        "with open(\"/content/drive/MyDrive/NSI/NSI - Terminale/Structure de données/villes.csv\",'r',encoding='utf-8') as f:\n",
        "    lecteur=csv.reader(f,delimiter=',')\n",
        "    for ligne in lecteur:\n",
        "        liste_villes.append(ligne)"
      ],
      "execution_count": null,
      "outputs": [
        {
          "output_type": "error",
          "ename": "FileNotFoundError",
          "evalue": "ignored",
          "traceback": [
            "\u001b[0;31m---------------------------------------------------------------------------\u001b[0m",
            "\u001b[0;31mFileNotFoundError\u001b[0m                         Traceback (most recent call last)",
            "\u001b[0;32m<ipython-input-1-3133a193e133>\u001b[0m in \u001b[0;36m<module>\u001b[0;34m()\u001b[0m\n\u001b[1;32m      1\u001b[0m \u001b[0;32mimport\u001b[0m \u001b[0mcsv\u001b[0m\u001b[0;34m\u001b[0m\u001b[0;34m\u001b[0m\u001b[0m\n\u001b[1;32m      2\u001b[0m \u001b[0mliste_villes\u001b[0m\u001b[0;34m=\u001b[0m\u001b[0;34m[\u001b[0m\u001b[0;34m]\u001b[0m\u001b[0;34m\u001b[0m\u001b[0;34m\u001b[0m\u001b[0m\n\u001b[0;32m----> 3\u001b[0;31m \u001b[0;32mwith\u001b[0m \u001b[0mopen\u001b[0m\u001b[0;34m(\u001b[0m\u001b[0;34m\"/content/drive/MyDrive/NSI/NSI - Terminale/Structure de données/villes.csv\"\u001b[0m\u001b[0;34m,\u001b[0m\u001b[0;34m'r'\u001b[0m\u001b[0;34m,\u001b[0m\u001b[0mencoding\u001b[0m\u001b[0;34m=\u001b[0m\u001b[0;34m'utf-8'\u001b[0m\u001b[0;34m)\u001b[0m \u001b[0;32mas\u001b[0m \u001b[0mf\u001b[0m\u001b[0;34m:\u001b[0m\u001b[0;34m\u001b[0m\u001b[0;34m\u001b[0m\u001b[0m\n\u001b[0m\u001b[1;32m      4\u001b[0m     \u001b[0mlecteur\u001b[0m\u001b[0;34m=\u001b[0m\u001b[0mcsv\u001b[0m\u001b[0;34m.\u001b[0m\u001b[0mreader\u001b[0m\u001b[0;34m(\u001b[0m\u001b[0mf\u001b[0m\u001b[0;34m,\u001b[0m\u001b[0mdelimiter\u001b[0m\u001b[0;34m=\u001b[0m\u001b[0;34m','\u001b[0m\u001b[0;34m)\u001b[0m\u001b[0;34m\u001b[0m\u001b[0;34m\u001b[0m\u001b[0m\n\u001b[1;32m      5\u001b[0m     \u001b[0;32mfor\u001b[0m \u001b[0mligne\u001b[0m \u001b[0;32min\u001b[0m \u001b[0mlecteur\u001b[0m\u001b[0;34m:\u001b[0m\u001b[0;34m\u001b[0m\u001b[0;34m\u001b[0m\u001b[0m\n",
            "\u001b[0;31mFileNotFoundError\u001b[0m: [Errno 2] No such file or directory: '/content/drive/MyDrive/NSI/NSI - Terminale/Structure de données/villes.csv'"
          ]
        }
      ]
    },
    {
      "cell_type": "code",
      "metadata": {
        "id": "reVbEyq3gyVQ"
      },
      "source": [
        "liste_villes"
      ],
      "execution_count": null,
      "outputs": []
    },
    {
      "cell_type": "code",
      "metadata": {
        "id": "NrQMkz48z5lc"
      },
      "source": [
        "liste_villes.append([\"Maisons-Alfort\", '94', '51091', '5.4', '100'])"
      ],
      "execution_count": null,
      "outputs": []
    },
    {
      "cell_type": "code",
      "metadata": {
        "id": "Yv6zSKrsd-8m"
      },
      "source": [
        "class Ville :\n",
        "        \"\"\"\n",
        "            classe définissant une ville de France.\n",
        "            Chaque ville a 4 attributs :\n",
        "            - nom\n",
        "            - numero de departement\n",
        "            - population (hab)\n",
        "            - superficie (km^2)\n",
        "            - rang au niveau national (place)\n",
        "\n",
        "            Exemple :\n",
        "            >>> liste = ['Nice', '6','343123','71.9','5']\n",
        "            >>> ville=Ville(liste)\n",
        "            >>> ville.nom\n",
        "            'Nice'\n",
        "            >>> ville.departement\n",
        "            '6'\n",
        "            >>> ville.population\n",
        "            343123\n",
        "            >>> ville.superficie\n",
        "            71.9\n",
        "            >>> ville.rang\n",
        "            5\n",
        "\n",
        "        \"\"\"\n",
        "        def __init__(self,liste):\n",
        "            self.nom = liste[0]\n",
        "            self.departement = liste[1]\n",
        "            self.population = int(liste[2])\n",
        "            self.superficie = float(liste[3])\n",
        "            self.rang = int(liste[4])\n",
        "\n",
        "        def getRang(self):\n",
        "            \"\"\"\n",
        "             Renvoie le rang de la ville\n",
        "                Exemple :\n",
        "                >>> liste = ['Nice', '6','343123','71.9','5']\n",
        "                >>> ville=Ville(liste)\n",
        "                >>> ville.getRang()\n",
        "                5\n",
        "            \"\"\"\n",
        "            return self.rang\n",
        "\n",
        "        def getSuperficie(self):\n",
        "            \"\"\"\n",
        "             Renvoie la superficie de la ville\n",
        "                Exemple :\n",
        "                >>> liste = ['Nice', '6','343123','71.9','5']\n",
        "                >>> ville=Ville(liste)\n",
        "                >>> ville.getSuperficie()\n",
        "                71.9\n",
        "            \"\"\"\n",
        "            return self.superficie\n",
        "\n",
        "        def afficherVille(self):\n",
        "            \"\"\" \n",
        "                Affiche les 5 données de la villes\n",
        "                Exemple: \n",
        "                >>> liste = ['Nice', '6','343123','71.9','5']\n",
        "                >>> ville=Ville(liste)\n",
        "                >>> ville.afficherVille()\n",
        "                ['Nice', '6','343123','71.9','5']\n",
        "            \"\"\"\n",
        "            dico={}\n",
        "            dico[\"ville\"]=self.nom\n",
        "            dico[\"Département\"]=self.departement\n",
        "            dico[\"Population\"]=self.population\n",
        "            dico[\"Superficie\"]=self.getSuperficie()\n",
        "            dico[\"Rang\"]=self.getRang()\n",
        "            return dico\n",
        "    \n",
        "        def afficherNom(self):\n",
        "            return self.nom"
      ],
      "execution_count": null,
      "outputs": []
    },
    {
      "cell_type": "code",
      "metadata": {
        "colab": {
          "base_uri": "https://localhost:8080/"
        },
        "id": "UFRf0nRJfXZM",
        "outputId": "99975412-4b57-46c8-9872-0a7d701ab137"
      },
      "source": [
        "import doctest\n",
        "doctest.testmod()"
      ],
      "execution_count": null,
      "outputs": [
        {
          "output_type": "execute_result",
          "data": {
            "text/plain": [
              "TestResults(failed=0, attempted=13)"
            ]
          },
          "metadata": {
            "tags": []
          },
          "execution_count": 18
        }
      ]
    },
    {
      "cell_type": "code",
      "metadata": {
        "id": "scmbHp1Seyah",
        "colab": {
          "base_uri": "https://localhost:8080/"
        },
        "outputId": "89401f99-c344-4bfb-9ce0-fa1bc5e86bd8"
      },
      "source": [
        "lst = [\"Maisons-Alfort\", '94', '51091', '5.4', '100']\n",
        "ville= Ville(lst)\n",
        "ville.afficherVille()"
      ],
      "execution_count": null,
      "outputs": [
        {
          "output_type": "execute_result",
          "data": {
            "text/plain": [
              "{'Département': '94',\n",
              " 'Population': 51091,\n",
              " 'Rang': 100,\n",
              " 'Superficie': 5.4,\n",
              " 'ville': 'Maisons-Alfort'}"
            ]
          },
          "metadata": {
            "tags": []
          },
          "execution_count": 6
        }
      ]
    },
    {
      "cell_type": "code",
      "metadata": {
        "id": "yDbI7gqN0Y3q"
      },
      "source": [
        "import matplotlib.pyplot as plt\n",
        "class Noeud:\n",
        "    # Le constructeur\n",
        "    def __init__(self, liste, filsgauche=None, filsdroit=None):\n",
        "        self.ville = Ville(liste)\n",
        "        self.filsgauche = filsgauche\n",
        "        self.filsdroit = filsdroit\n",
        "        self.parent=None\n",
        "\n",
        "    def estFeuille(self):\n",
        "        return self.filsgauche==None and self.filsdroit==None\n",
        "\n",
        "    # Méthode qui permet d’afficher la valeur\n",
        "    # de la racine avec la fonction print\n",
        "    def __str__(self):\n",
        "        return str(self.ville.afficherVille())\n",
        "    \n",
        "    def inserer(self, liste):\n",
        "        if int(liste[-1])<self.ville.afficherVille()['Rang']:\n",
        "            if self.filsgauche is None :\n",
        "                self.filsgauche=Noeud(liste)\n",
        "                self.filsgauche.parent=self\n",
        "            else :\n",
        "                self.filsgauche.inserer(liste)\n",
        "        elif int(liste[-1])>self.ville.afficherVille()['Rang']:\n",
        "            if self.filsdroit is None :\n",
        "                self.filsdroit=Noeud(liste)\n",
        "                self.filsdroit.parent=self\n",
        "            else : \n",
        "                self.filsdroit.inserer(liste)\n",
        "    \n",
        "    def hauteur(self):\n",
        "        listeh=[]\n",
        "        if self.ville==None:\n",
        "            return 0\n",
        "        if self.filsgauche==None and  self.filsdroit==None :\n",
        "            return 0\n",
        "        else:\n",
        "            if self.filsgauche!=None:\n",
        "                listeh.append(self.filsgauche.hauteur())\n",
        "\n",
        "            if self.filsdroit!=None:\n",
        "                listeh.append(self.filsdroit.hauteur())\n",
        "\n",
        "            return max(listeh)+1\n",
        "\n",
        "    def dessine_recurs(self,x1,x2,y1,y2,dy):\n",
        "\n",
        "        if self.ville==None:\n",
        "            return\n",
        "        xm=(x1+x2)//2\n",
        "        if self.filsgauche!=None:\n",
        "            self.filsgauche.dessine_recurs(x1,xm,y1,y2-dy,dy)\n",
        "        if self.filsdroit!=None:\n",
        "            self.filsdroit.dessine_recurs(xm,x2,y1,y2-dy,dy)\n",
        "        plt.text(xm+10,y2,self.ville.nom)\n",
        "        if self.filsgauche!=None:\n",
        "            plt.plot((xm, (x1 + xm) // 2), (y2, y2 - dy),'dodgerblue',marker='o')\n",
        "        if self.filsdroit!=None:\n",
        "            plt.plot((xm, (x2 + xm) // 2), (y2, y2 - dy),'dodgerblue',marker='o')\n",
        "\n",
        "\n",
        "    def dessine(self):\n",
        "        d=512\n",
        "        pad=20\n",
        "        dy=(d-2*pad)/(self.hauteur()+1)\n",
        "        self.dessine_recurs(pad,d-pad,pad,d-pad,dy)\n",
        "        plt.axis([0, d, 0, d])\n",
        "        plt.axis('off')\n",
        "        plt.show()\n",
        "\n",
        "    def dessinePays(self):\n",
        "        d=512\n",
        "        pad=20\n",
        "        dy=(d-2*pad)/(self.hauteur()+1)\n",
        "        self.dessine_recursPays(pad,d-pad,pad,d-pad,dy)\n",
        "        plt.axis([0, d, 0, d])\n",
        "        plt.axis('off')\n",
        "        plt.show()\n",
        "\n",
        "    def dessine_recursPays(self,x1,x2,y1,y2,dy):\n",
        "\n",
        "        if self.ville==None:\n",
        "            return\n",
        "        xm=(x1+x2)//2\n",
        "        if self.filsgauche!=None:\n",
        "            self.filsgauche.dessine_recursPays(x1,xm,y1,y2-dy,dy)\n",
        "        if self.filsdroit!=None:\n",
        "            self.filsdroit.dessine_recursPays(xm,x2,y1,y2-dy,dy)\n",
        "        plt.text(xm+10,y2,self.ville.nom)\n",
        "        if self.filsgauche!=None:\n",
        "            plt.plot((xm, (x1 + xm) // 2), (y2, y2 - dy),'dodgerblue',marker='o')\n",
        "        if self.filsdroit!=None:\n",
        "            plt.plot((xm, (x2 + xm) // 2), (y2, y2 - dy),'dodgerblue',marker='o')"
      ],
      "execution_count": null,
      "outputs": []
    },
    {
      "cell_type": "code",
      "metadata": {
        "id": "LspDYYQa3B9h"
      },
      "source": [
        "racine.inserer(['Nice', '6','343123','71.9','5'])"
      ],
      "execution_count": null,
      "outputs": []
    },
    {
      "cell_type": "code",
      "metadata": {
        "colab": {
          "base_uri": "https://localhost:8080/"
        },
        "id": "_ACvi9Hs3zPu",
        "outputId": "324eb72f-ffd8-41db-8af1-3fa99815f270"
      },
      "source": [
        "racine.filsgauche.ville.afficherVille()"
      ],
      "execution_count": null,
      "outputs": [
        {
          "output_type": "execute_result",
          "data": {
            "text/plain": [
              "{'Département': '6',\n",
              " 'Population': 343123,\n",
              " 'Rang': 5,\n",
              " 'Superficie': 71.9,\n",
              " 'ville': 'Nice'}"
            ]
          },
          "metadata": {
            "tags": []
          },
          "execution_count": 32
        }
      ]
    },
    {
      "cell_type": "code",
      "metadata": {
        "colab": {
          "base_uri": "https://localhost:8080/",
          "height": 248
        },
        "id": "J6JtxDJP4x1K",
        "outputId": "9f5604a5-5c6d-42d6-f1bf-986ce05dd494"
      },
      "source": [
        "racine.dessine()"
      ],
      "execution_count": null,
      "outputs": [
        {
          "output_type": "display_data",
          "data": {
            "image/png": "[encoded data removed]",
            "text/plain": [
              "<Figure size 432x288 with 1 Axes>"
            ]
          },
          "metadata": {
            "tags": [],
            "needs_background": "light"
          }
        }
      ]
    },
    {
      "cell_type": "code",
      "metadata": {
        "id": "3EfWNrtE1wmN"
      },
      "source": [
        "racine=Noeud(lst)\n",
        "for ville in liste_villes :\n",
        "    racine.inserer(ville)"
      ],
      "execution_count": null,
      "outputs": []
    },
    {
      "cell_type": "code",
      "metadata": {
        "id": "IMy-UvIS5hrI"
      },
      "source": [
        "racine.dessinePays()"
      ],
      "execution_count": null,
      "outputs": []
    }
  ]
}